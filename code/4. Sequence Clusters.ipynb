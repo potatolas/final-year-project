{
 "cells": [
  {
   "cell_type": "markdown",
   "metadata": {},
   "source": [
    "# Final Year Project\n",
    "## Finding Usage Patterns\n",
    "\n",
    "Target Project: Sudoku Robot Master (https://github.com/Sanahm/Sudoku-robot) <br>\n",
    "Target Library: Tensorflow\n",
    "\n",
    "In the open source project for Sudoku Robot Master, the library **Tensorflow** is being used in the python file named **mnist_model_convolutionnel.py**"
   ]
  },
  {
   "cell_type": "markdown",
   "metadata": {},
   "source": [
    "### Preparing Datas\n",
    "\n",
    "The data from the previous prcoess (Identifying Usage Pattern) is being prepared in the following segement. <br>\n",
    "The data will be represented in a dictionary. <br>\n",
    "The name of each API Call or Method Invocation will represent the key in the dictionary. <br>\n",
    "The value of each key will be a list of Usage Patterns that the API Call is involved in. <br>"
   ]
  },
  {
   "cell_type": "code",
   "execution_count": 1,
   "metadata": {},
   "outputs": [
    {
     "data": {
      "text/plain": [
       "{'tf.placeholder': [<classes.UsagePattern at 0x24a95e1c7f0>],\n",
       " 'tf.reshape': [<classes.UsagePattern at 0x24ab46de610>,\n",
       "  <classes.UsagePattern at 0x24ab4e17190>],\n",
       " 'tf.argmax': [<classes.UsagePattern at 0x24ab4e17580>,\n",
       "  <classes.UsagePattern at 0x24ab523fcd0>],\n",
       " 'tf.nn.softmax': [<classes.UsagePattern at 0x24ab52bd970>],\n",
       " 'tf.reduce_mean': [<classes.UsagePattern at 0x24ab52afc70>],\n",
       " 'tf.nn.softmax_cross_entropy_with_logits': [<classes.UsagePattern at 0x24ab52afa60>],\n",
       " 'tf.train.GradientDescentOptimizer': [<classes.UsagePattern at 0x24ab52af850>],\n",
       " 'tf.equal': [<classes.UsagePattern at 0x24ab52af700>],\n",
       " 'tf.cast': [<classes.UsagePattern at 0x24ab52af040>],\n",
       " 'tf.global_variables_initializer': [<classes.UsagePattern at 0x24ab52af820>],\n",
       " 'tf.train.Saver': [<classes.UsagePattern at 0x24ab52afa00>],\n",
       " 'tf.Session': [<classes.UsagePattern at 0x24ab52af2e0>],\n",
       " 'tf.Variable': [<classes.UsagePattern at 0x24ab52af1c0>,\n",
       "  <classes.UsagePattern at 0x24ab52afd60>],\n",
       " 'tf.truncated_normal': [<classes.UsagePattern at 0x24ab52af370>],\n",
       " 'tf.constant': [<classes.UsagePattern at 0x24ab52af910>],\n",
       " 'tf.nn.conv2d': [<classes.UsagePattern at 0x24ab52af5e0>],\n",
       " 'tf.nn.max_pool': [<classes.UsagePattern at 0x24ab52af4c0>],\n",
       " 'tf.nn.relu': [<classes.UsagePattern at 0x24ab52afa90>,\n",
       "  <classes.UsagePattern at 0x24ab52a22b0>],\n",
       " 'tf.matmul': [<classes.UsagePattern at 0x24ab52a2280>]}"
      ]
     },
     "execution_count": 1,
     "metadata": {},
     "output_type": "execute_result"
    }
   ],
   "source": [
    "#get usage_pattern_dict from other jupyter file\n",
    "from functions import *\n",
    "%store -r usage_pattern_dict \n",
    "usage_pattern_dict = usage_pattern_dict\n",
    "usage_pattern_dict"
   ]
  },
  {
   "cell_type": "markdown",
   "metadata": {},
   "source": [
    "### Identifying Clusters\n",
    "\n",
    "Some method invocation have more than 1 usage patterns. For these method invocation, clusters of usage patterns should be identified. Ideally, each cluster should represent a distinct co-usage pattern or a API feature."
   ]
  },
  {
   "cell_type": "markdown",
   "metadata": {},
   "source": [
    "#### Identifying Clusters for 'tf.reshape()'\n",
    "\n",
    "From below, it is seen that 'tf.reshape()' is invoked in 2 separate usage patterns."
   ]
  },
  {
   "cell_type": "code",
   "execution_count": 2,
   "metadata": {},
   "outputs": [
    {
     "data": {
      "text/plain": [
       "[<classes.UsagePattern at 0x24ab46de610>,\n",
       " <classes.UsagePattern at 0x24ab4e17190>]"
      ]
     },
     "execution_count": 2,
     "metadata": {},
     "output_type": "execute_result"
    }
   ],
   "source": [
    "usage_pattern_dict['tf.reshape']"
   ]
  },
  {
   "cell_type": "markdown",
   "metadata": {},
   "source": [
    "#### Constructing Similarity Matrix\n",
    "\n",
    "As there are 2 separate usage patterns - a similarity matrix of size 2x2 will be constructed. <br> \n",
    "The similarity matrix will be constructed using the Jaccard Index among the pre, post and accompany sets of the 2 separate usage patterns. <br>"
   ]
  },
  {
   "cell_type": "code",
   "execution_count": 3,
   "metadata": {},
   "outputs": [
    {
     "name": "stdout",
     "output_type": "stream",
     "text": [
      "========== Usage Pattern ==========\n",
      "Target Method: tf.reshape\n",
      "Pre-Set: {tf.placeholder}\n",
      "Post-Set: {tf.placeholder, tf.argmax}\n",
      "Accompany-Set: {}\n",
      "===================================\n",
      "========== Usage Pattern ==========\n",
      "Target Method: tf.reshape\n",
      "Pre-Set: {}\n",
      "Post-Set: {}\n",
      "Accompany-Set: {}\n",
      "===================================\n"
     ]
    }
   ],
   "source": [
    "target_usage_pattern_list = usage_pattern_dict['tf.reshape']\n",
    "for usage_pattern in target_usage_pattern_list:\n",
    "    usage_pattern.print()"
   ]
  },
  {
   "cell_type": "markdown",
   "metadata": {},
   "source": [
    "The similarity matrix is shown below. <br>\n",
    "For the value in (0,1), it represents the similarity value of usage pattern 1/sequence 1 (s1) and usage pattern 2/sequence 2 (s2). <br>\n",
    "Jaccard Index for pre, post and accompany sets for s1 and s2 are being added together and divided by 3 to obtain this value. <br>"
   ]
  },
  {
   "cell_type": "code",
   "execution_count": 4,
   "metadata": {},
   "outputs": [
    {
     "name": "stdout",
     "output_type": "stream",
     "text": [
      "          0         1\n",
      "0  1.000000  0.333333\n",
      "1  0.333333  1.000000\n"
     ]
    }
   ],
   "source": [
    "from pandas import *\n",
    "similarity_matrix = generate_similarity_matrix(target_usage_pattern_list)\n",
    "print(DataFrame(similarity_matrix))\n"
   ]
  },
  {
   "cell_type": "markdown",
   "metadata": {},
   "source": [
    "#### Generating the clusters\n",
    "\n",
    "Below shows the clusters for this 2 sequences. As these 2 sequences have very little similarity (similarity value = 0.33333), they are part of 2 clusters."
   ]
  },
  {
   "cell_type": "code",
   "execution_count": 5,
   "metadata": {},
   "outputs": [
    {
     "data": {
      "image/png": "[encoded data removed]",
      "text/plain": [
       "<Figure size 432x288 with 1 Axes>"
      ]
     },
     "metadata": {
      "needs_background": "light"
     },
     "output_type": "display_data"
    },
    {
     "name": "stdout",
     "output_type": "stream",
     "text": [
      "Labels:\n",
      "[0 1]\n"
     ]
    }
   ],
   "source": [
    "generate_clusters(similarity_matrix, True)"
   ]
  },
  {
   "cell_type": "markdown",
   "metadata": {},
   "source": [
    "### Repeat Steps for all Method Invocations or API Calls."
   ]
  },
  {
   "cell_type": "code",
   "execution_count": 6,
   "metadata": {},
   "outputs": [
    {
     "name": "stdout",
     "output_type": "stream",
     "text": [
      "=================================================\n",
      "Method Invocation: tf.placeholder\n",
      "\n",
      "Method Invocation contains only 1 usage pattern.\n",
      "No clusters are generated. \n",
      "=================================================\n",
      "Method Invocation: tf.reshape\n",
      "\n",
      "Similarity Matrix: \n",
      "          0         1\n",
      "0  1.000000  0.333333\n",
      "1  0.333333  1.000000\n",
      "\n",
      "Labels:\n",
      "[0 1]\n",
      "=================================================\n",
      "Method Invocation: tf.argmax\n",
      "\n",
      "Similarity Matrix: \n",
      "          0         1\n",
      "0  1.000000  0.333333\n",
      "1  0.333333  1.000000\n",
      "\n",
      "Labels:\n",
      "[0 1]\n",
      "=================================================\n",
      "Method Invocation: tf.nn.softmax\n",
      "\n",
      "Method Invocation contains only 1 usage pattern.\n",
      "No clusters are generated. \n",
      "=================================================\n",
      "Method Invocation: tf.reduce_mean\n",
      "\n",
      "Method Invocation contains only 1 usage pattern.\n",
      "No clusters are generated. \n",
      "=================================================\n",
      "Method Invocation: tf.nn.softmax_cross_entropy_with_logits\n",
      "\n",
      "Method Invocation contains only 1 usage pattern.\n",
      "No clusters are generated. \n",
      "=================================================\n",
      "Method Invocation: tf.train.GradientDescentOptimizer\n",
      "\n",
      "Method Invocation contains only 1 usage pattern.\n",
      "No clusters are generated. \n",
      "=================================================\n",
      "Method Invocation: tf.equal\n",
      "\n",
      "Method Invocation contains only 1 usage pattern.\n",
      "No clusters are generated. \n",
      "=================================================\n",
      "Method Invocation: tf.cast\n",
      "\n",
      "Method Invocation contains only 1 usage pattern.\n",
      "No clusters are generated. \n",
      "=================================================\n",
      "Method Invocation: tf.global_variables_initializer\n",
      "\n",
      "Method Invocation contains only 1 usage pattern.\n",
      "No clusters are generated. \n",
      "=================================================\n",
      "Method Invocation: tf.train.Saver\n",
      "\n",
      "Method Invocation contains only 1 usage pattern.\n",
      "No clusters are generated. \n",
      "=================================================\n",
      "Method Invocation: tf.Session\n",
      "\n",
      "Method Invocation contains only 1 usage pattern.\n",
      "No clusters are generated. \n",
      "=================================================\n",
      "Method Invocation: tf.Variable\n",
      "\n",
      "Similarity Matrix: \n",
      "          0         1\n",
      "0  1.000000  0.666667\n",
      "1  0.666667  1.000000\n",
      "\n",
      "Labels:\n",
      "[0 1]\n",
      "=================================================\n",
      "Method Invocation: tf.truncated_normal\n",
      "\n",
      "Method Invocation contains only 1 usage pattern.\n",
      "No clusters are generated. \n",
      "=================================================\n",
      "Method Invocation: tf.constant\n",
      "\n",
      "Method Invocation contains only 1 usage pattern.\n",
      "No clusters are generated. \n",
      "=================================================\n",
      "Method Invocation: tf.nn.conv2d\n",
      "\n",
      "Method Invocation contains only 1 usage pattern.\n",
      "No clusters are generated. \n",
      "=================================================\n",
      "Method Invocation: tf.nn.max_pool\n",
      "\n",
      "Method Invocation contains only 1 usage pattern.\n",
      "No clusters are generated. \n",
      "=================================================\n",
      "Method Invocation: tf.nn.relu\n",
      "\n",
      "Similarity Matrix: \n",
      "          0         1\n",
      "0  1.000000  0.666667\n",
      "1  0.666667  1.000000\n",
      "\n",
      "Labels:\n",
      "[0 1]\n",
      "=================================================\n",
      "Method Invocation: tf.matmul\n",
      "\n",
      "Method Invocation contains only 1 usage pattern.\n",
      "No clusters are generated. \n"
     ]
    }
   ],
   "source": [
    "for key in usage_pattern_dict:\n",
    "    print(\"=================================================\")\n",
    "    print(\"Method Invocation: \" + key)\n",
    "    print()\n",
    "\n",
    "    target_usage_pattern_list = usage_pattern_dict[key]\n",
    "\n",
    "    if len(target_usage_pattern_list) == 1:\n",
    "        print(\"Method Invocation contains only 1 usage pattern.\")\n",
    "        print(\"No clusters are generated. \")\n",
    "    else:\n",
    "        similarity_matrix = generate_similarity_matrix(target_usage_pattern_list)\n",
    "        print(\"Similarity Matrix: \")\n",
    "        print(DataFrame(similarity_matrix))\n",
    "        print()\n",
    "        generate_clusters(similarity_matrix, False)\n",
    "    "
   ]
  },
  {
   "cell_type": "code",
   "execution_count": 8,
   "metadata": {},
   "outputs": [
    {
     "name": "stdout",
     "output_type": "stream",
     "text": [
      "=================================================\n",
      "Method Invocation: tf.reshape\n",
      "\n",
      "Similarity Matrix: \n",
      "          0         1\n",
      "0  1.000000  0.333333\n",
      "1  0.333333  1.000000\n",
      "\n"
     ]
    },
    {
     "data": {
      "image/png": "[encoded data removed]",
      "text/plain": [
       "<Figure size 432x288 with 1 Axes>"
      ]
     },
     "metadata": {
      "needs_background": "light"
     },
     "output_type": "display_data"
    },
    {
     "name": "stdout",
     "output_type": "stream",
     "text": [
      "Labels:\n",
      "[0 1]\n",
      "=================================================\n",
      "Method Invocation: tf.argmax\n",
      "\n",
      "Similarity Matrix: \n",
      "          0         1\n",
      "0  1.000000  0.333333\n",
      "1  0.333333  1.000000\n",
      "\n"
     ]
    },
    {
     "data": {
      "image/png": "[encoded data removed]",
      "text/plain": [
       "<Figure size 432x288 with 1 Axes>"
      ]
     },
     "metadata": {
      "needs_background": "light"
     },
     "output_type": "display_data"
    },
    {
     "name": "stdout",
     "output_type": "stream",
     "text": [
      "Labels:\n",
      "[0 1]\n",
      "=================================================\n",
      "Method Invocation: tf.Variable\n",
      "\n",
      "Similarity Matrix: \n",
      "          0         1\n",
      "0  1.000000  0.666667\n",
      "1  0.666667  1.000000\n",
      "\n"
     ]
    },
    {
     "data": {
      "image/png": "[encoded data removed]",
      "text/plain": [
       "<Figure size 432x288 with 1 Axes>"
      ]
     },
     "metadata": {
      "needs_background": "light"
     },
     "output_type": "display_data"
    },
    {
     "name": "stdout",
     "output_type": "stream",
     "text": [
      "Labels:\n",
      "[0 1]\n",
      "=================================================\n",
      "Method Invocation: tf.nn.relu\n",
      "\n",
      "Similarity Matrix: \n",
      "          0         1\n",
      "0  1.000000  0.666667\n",
      "1  0.666667  1.000000\n",
      "\n"
     ]
    },
    {
     "data": {
      "image/png": "[encoded data removed]",
      "text/plain": [
       "<Figure size 432x288 with 1 Axes>"
      ]
     },
     "metadata": {
      "needs_background": "light"
     },
     "output_type": "display_data"
    },
    {
     "name": "stdout",
     "output_type": "stream",
     "text": [
      "Labels:\n",
      "[0 1]\n"
     ]
    }
   ],
   "source": [
    "for key in usage_pattern_dict:\n",
    "    target_usage_pattern_list = usage_pattern_dict[key]\n",
    "    if len(target_usage_pattern_list) == 1:\n",
    "        pass\n",
    "    else:\n",
    "        print(\"=================================================\")\n",
    "        print(\"Method Invocation: \" + key)\n",
    "        print()\n",
    "        similarity_matrix = generate_similarity_matrix(target_usage_pattern_list)\n",
    "        print(\"Similarity Matrix: \")\n",
    "        print(DataFrame(similarity_matrix))\n",
    "        print()\n",
    "        generate_clusters(similarity_matrix, True)"
   ]
  }
 ],
 "metadata": {
  "interpreter": {
   "hash": "ed982b9b6081d1d9e59ed82f711d227adf8310dd235d41e3a5d30a82931f91e3"
  },
  "kernelspec": {
   "display_name": "Python 3.9.1 64-bit",
   "language": "python",
   "name": "python3"
  },
  "language_info": {
   "codemirror_mode": {
    "name": "ipython",
    "version": 3
   },
   "file_extension": ".py",
   "mimetype": "text/x-python",
   "name": "python",
   "nbconvert_exporter": "python",
   "pygments_lexer": "ipython3",
   "version": "3.9.1"
  },
  "orig_nbformat": 4
 },
 "nbformat": 4,
 "nbformat_minor": 2
}

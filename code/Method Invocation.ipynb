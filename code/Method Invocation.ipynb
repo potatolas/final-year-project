{
 "cells": [
  {
   "cell_type": "markdown",
   "metadata": {},
   "source": [
    "# Final Year Project\n",
    "### Finding Method Invocation\n",
    "\n",
    "Target Project: Sudoku Robot Master (https://github.com/Sanahm/Sudoku-robot) <br>\n",
    "Target Library: Tensorflow\n",
    "\n",
    "In the open source project for Sudoku Robot Master, the library **Tensorflow** is being used in the python file named **mnist_model_convolutionnel.py**"
   ]
  },
  {
   "cell_type": "markdown",
   "metadata": {},
   "source": [
    "## Creating Module Object for Syntax Tree\n",
    "\n",
    "Firstly, I save the whole python file as a string to allow LibCST to construct a Syntax Tree in order to analyse and identify the method invocations. <br>\n",
    "Then, parse this string as a module object for Syntax Tree Analysis."
   ]
  },
  {
   "cell_type": "code",
   "execution_count": 1,
   "metadata": {},
   "outputs": [],
   "source": [
    "from mnist_model_convolutionnel import file_string\n",
    "\n",
    "file_string #whole python file as string\n",
    "\n",
    "import libcst as cst\n",
    "source_tree = cst.parse_module(file_string) #using libcst to parse module"
   ]
  },
  {
   "cell_type": "markdown",
   "metadata": {},
   "source": [
    "## Traverse the Syntax Tree using implemented function\n",
    "\n",
    "The following is an implementation using the LibCST Library to traverse the Syntax Tree to get all Method Invocations"
   ]
  },
  {
   "cell_type": "code",
   "execution_count": 2,
   "metadata": {},
   "outputs": [],
   "source": [
    "saved = []\n",
    "invocations = []\n",
    "\n",
    "class getMethodInvocation(cst.CSTVisitor):\n",
    "    def visit_Attribute(self, node: cst.Attribute) -> None:\n",
    "        # print(\"---------------------\")\n",
    "        # print(node.children)\n",
    "\n",
    "        try:\n",
    "            if(node.value.value.value == \"tf\"):\n",
    "                saved.append(node.value.value.value + \".\" + node.value.attr.value)\n",
    "                string = node.value.value.value + \".\" + node.value.attr.value + \".\" + node.attr.value\n",
    "                invocations.append(string)\n",
    "                return\n",
    "        except:\n",
    "            pass\n",
    "\n",
    "        try:\n",
    "            if(node.value.value == \"tf\"):\n",
    "                string = node.value.value + \".\" +node.attr.value\n",
    "                if(string not in saved ):\n",
    "                    invocations.append(string)\n",
    "        except:\n",
    "            pass          \n",
    "        "
   ]
  },
  {
   "cell_type": "markdown",
   "metadata": {},
   "source": [
    "## Print out all method invocations of Tensorflow (tf)\n",
    "\n",
    "In the previous step, all method invocations will be saved in the list **invocations**"
   ]
  },
  {
   "cell_type": "code",
   "execution_count": 3,
   "metadata": {},
   "outputs": [
    {
     "name": "stdout",
     "output_type": "stream",
     "text": [
      "['tf.Variable', 'tf.truncated_normal', 'tf.Variable', 'tf.constant', 'tf.nn.conv2d', 'tf.nn.max_pool', 'tf.nn.relu', 'tf.reshape', 'tf.matmul', 'tf.nn.relu', 'tf.placeholder', 'tf.reshape', 'tf.placeholder', 'tf.float32', 'tf.argmax', 'tf.nn.softmax', 'tf.argmax', 'tf.reduce_mean', 'tf.nn.softmax_cross_entropy_with_logits', 'tf.train.GradientDescentOptimizer', 'tf.equal', 'tf.reduce_mean', 'tf.cast', 'tf.float32', 'tf.global_variables_initializer', 'tf.train.Saver', 'tf.Session']\n"
     ]
    }
   ],
   "source": [
    "source_tree.visit(getMethodInvocation()) #traverse\n",
    "print(invocations)"
   ]
  },
  {
   "cell_type": "markdown",
   "metadata": {},
   "source": [
    "## Full Qualified Names (Call Sequence)"
   ]
  },
  {
   "cell_type": "markdown",
   "metadata": {},
   "source": [
    "Below shows the method invocation of tensorflow."
   ]
  },
  {
   "cell_type": "code",
   "execution_count": 4,
   "metadata": {},
   "outputs": [
    {
     "name": "stdout",
     "output_type": "stream",
     "text": [
      "tensorflow.python.ops.variables.Variable: <init>\n",
      "tf.truncated_normal\n",
      "tensorflow.python.ops.variables.Variable: <init>\n",
      "tensorflow.python.framework.constant_op: constant()\n",
      "tensorflow.python.ops.nn_ops: conv2d_v2()\n",
      "tensorflow.python.ops.nn_ops: max_pool_v2()\n",
      "tensorflow.python.ops.gen_nn_ops: relu()\n",
      "tensorflow.python.ops.array_ops: reshape()\n",
      "tensorflow.python.ops.math_ops: matmul()\n",
      "tensorflow.python.ops.gen_nn_ops: relu()\n",
      "tf.placeholder\n",
      "tensorflow.python.ops.array_ops: reshape()\n",
      "tf.placeholder\n",
      "tf.float32\n",
      "tensorflow.python.ops.math_ops: argmax_v2()\n",
      "tensorflow.python.ops.nn_ops: softmax_v2()\n",
      "tensorflow.python.ops.math_ops: argmax_v2()\n",
      "tensorflow.python.ops.math_ops: reduce_mean()\n",
      "tensorflow.python.ops.nn_ops: softmax_cross_entropy_with_logits_v2()\n",
      "tf.train.GradientDescentOptimizer\n",
      "tensorflow.python.ops.math_ops: equal()\n",
      "tensorflow.python.ops.math_ops: reduce_mean()\n",
      "tensorflow.python.ops.math_ops: cast()\n",
      "tf.float32\n",
      "tf.global_variables_initializer\n",
      "tf.train.Saver\n",
      "tf.Session\n"
     ]
    }
   ],
   "source": [
    "#open text file\n",
    "text_file = open(\"fqn.py\", \"w\")\n",
    "text_file.write('import tensorflow as tf \\n\\n')\n",
    "\n",
    "text_file.write(\"def printFQN(): \\n\")\n",
    "\n",
    "#write string to file\n",
    "for invocation in invocations:\n",
    "    text_file.write('    try:\\n')\n",
    "    text_file.write('        if(type('+ invocation +').__name__ == \"function\"): \\n')\n",
    "    text_file.write('            function_name = '+ invocation +'.__name__\\n')\n",
    "    text_file.write('            print(' + invocation + '.__module__ + \": \" + function_name + \"()\")\\n')\n",
    "    text_file.write('        else: \\n')\n",
    "    text_file.write('            print(' + invocation + '.__module__ + \".\" + '+ invocation +'.__name__ + \": <init>\")\\n')\n",
    "    text_file.write('    except:\\n')\n",
    "    text_file.write('        print(\"' + invocation + '\") \\n')\n",
    " \n",
    "#close file\n",
    "text_file.close()\n",
    "\n",
    "from fqn import printFQN\n",
    "printFQN()"
   ]
  }
 ],
 "metadata": {
  "interpreter": {
   "hash": "ed982b9b6081d1d9e59ed82f711d227adf8310dd235d41e3a5d30a82931f91e3"
  },
  "kernelspec": {
   "display_name": "Python 3.9.1 64-bit",
   "language": "python",
   "name": "python3"
  },
  "language_info": {
   "codemirror_mode": {
    "name": "ipython",
    "version": 3
   },
   "file_extension": ".py",
   "mimetype": "text/x-python",
   "name": "python",
   "nbconvert_exporter": "python",
   "pygments_lexer": "ipython3",
   "version": "3.9.1"
  },
  "orig_nbformat": 4
 },
 "nbformat": 4,
 "nbformat_minor": 2
}

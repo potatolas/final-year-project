{
 "cells": [
  {
   "cell_type": "code",
   "execution_count": 1,
   "metadata": {},
   "outputs": [],
   "source": [
    "#get usage_pattern_dict from other jupyter file\n",
    "%store -r usage_pattern_dict \n",
    "usage_pattern_dict = usage_pattern_dict"
   ]
  },
  {
   "cell_type": "code",
   "execution_count": 2,
   "metadata": {},
   "outputs": [
    {
     "data": {
      "text/plain": [
       "{'tf.placeholder': [<classes.UsagePattern at 0x19394be3af0>],\n",
       " 'tf.reshape': [<classes.UsagePattern at 0x1939696c760>,\n",
       "  <classes.UsagePattern at 0x1939696cf70>],\n",
       " 'tf.argmax': [<classes.UsagePattern at 0x193962d23d0>,\n",
       "  <classes.UsagePattern at 0x19396731370>],\n",
       " 'tf.nn.softmax': [<classes.UsagePattern at 0x193968964c0>],\n",
       " 'tf.reduce_mean': [<classes.UsagePattern at 0x19396896df0>],\n",
       " 'tf.nn.softmax_cross_entropy_with_logits': [<classes.UsagePattern at 0x19396896eb0>],\n",
       " 'tf.train.GradientDescentOptimizer': [<classes.UsagePattern at 0x19396896790>],\n",
       " 'tf.equal': [<classes.UsagePattern at 0x19396896250>],\n",
       " 'tf.cast': [<classes.UsagePattern at 0x193968964f0>],\n",
       " 'tf.global_variables_initializer': [<classes.UsagePattern at 0x193968a1160>],\n",
       " 'tf.train.Saver': [<classes.UsagePattern at 0x193968a1640>],\n",
       " 'tf.Session': [<classes.UsagePattern at 0x193968a1d30>],\n",
       " 'tf.Variable': [<classes.UsagePattern at 0x193968a1df0>,\n",
       "  <classes.UsagePattern at 0x193968a12b0>],\n",
       " 'tf.truncated_normal': [<classes.UsagePattern at 0x193968a1370>],\n",
       " 'tf.constant': [<classes.UsagePattern at 0x193968a14f0>],\n",
       " 'tf.nn.conv2d': [<classes.UsagePattern at 0x193968a1130>],\n",
       " 'tf.nn.max_pool': [<classes.UsagePattern at 0x193968a1c40>],\n",
       " 'tf.nn.relu': [<classes.UsagePattern at 0x193968a1b20>,\n",
       "  <classes.UsagePattern at 0x193968a1af0>],\n",
       " 'tf.matmul': [<classes.UsagePattern at 0x193968a1580>]}"
      ]
     },
     "execution_count": 2,
     "metadata": {},
     "output_type": "execute_result"
    }
   ],
   "source": [
    "usage_pattern_dict"
   ]
  },
  {
   "cell_type": "code",
   "execution_count": 3,
   "metadata": {},
   "outputs": [
    {
     "data": {
      "text/plain": [
       "[<classes.UsagePattern at 0x193962d23d0>,\n",
       " <classes.UsagePattern at 0x19396731370>]"
      ]
     },
     "execution_count": 3,
     "metadata": {},
     "output_type": "execute_result"
    }
   ],
   "source": [
    "usage_pattern_dict['tf.argmax']"
   ]
  },
  {
   "cell_type": "code",
   "execution_count": 4,
   "metadata": {},
   "outputs": [
    {
     "name": "stdout",
     "output_type": "stream",
     "text": [
      "========== Usage Pattern ==========\n",
      "Target Method: tf.argmax\n",
      "Pre-Set: {tf.placeholder, tf.reshape}\n",
      "Post-Set: {}\n",
      "Accompany-Set: {}\n",
      "===================================\n",
      "========== Usage Pattern ==========\n",
      "Target Method: tf.argmax\n",
      "Pre-Set: {tf.nn.softmax}\n",
      "Post-Set: {tf.reduce_mean, tf.nn.softmax_cross_entropy_with_logits, tf.train.GradientDescentOptimizer, tf.equal, tf.cast, tf.global_variables_initializer, tf.train.Saver, tf.Session}\n",
      "Accompany-Set: {}\n",
      "===================================\n"
     ]
    }
   ],
   "source": [
    "for u in usage_pattern_dict['tf.argmax']:\n",
    "    u.print()"
   ]
  },
  {
   "cell_type": "code",
   "execution_count": 5,
   "metadata": {},
   "outputs": [
    {
     "data": {
      "text/plain": [
       "[[11, 21, 301, 41, 501],\n",
       " [12, 22, 302, 42, 502],\n",
       " [13, 23, 303, 43, 503],\n",
       " [14, 24, 304, 44, 504],\n",
       " [15, 25, 305, 45, 505]]"
      ]
     },
     "execution_count": 5,
     "metadata": {},
     "output_type": "execute_result"
    }
   ],
   "source": [
    "#[[cls.similarity(s1, s2, target, weights) for s2 in data] for s1 in data]\n",
    "lst = [1,2,3,4,5]\n",
    "lst2 = [10,20,300,40,500]\n",
    "matrix = [[(s1+s2) for s2 in lst2] for s1 in lst]\n",
    "# matrix = [  [1,     1/3,    1/2 ],\n",
    "#             [1/3,   1,      1/4 ],\n",
    "#             [1/2,   1/4,    1   ]]\n",
    "matrix"
   ]
  },
  {
   "cell_type": "code",
   "execution_count": 6,
   "metadata": {},
   "outputs": [
    {
     "data": {
      "text/plain": [
       "array([[ 11,  21, 301,  41, 501],\n",
       "       [ 12,  22, 302,  42, 502],\n",
       "       [ 13,  23, 303,  43, 503],\n",
       "       [ 14,  24, 304,  44, 504],\n",
       "       [ 15,  25, 305,  45, 505]])"
      ]
     },
     "execution_count": 6,
     "metadata": {},
     "output_type": "execute_result"
    }
   ],
   "source": [
    "import numpy as np\n",
    "\n",
    "similarity = np.array(matrix)\n",
    "similarity"
   ]
  },
  {
   "cell_type": "code",
   "execution_count": 7,
   "metadata": {},
   "outputs": [
    {
     "data": {
      "text/plain": [
       "AffinityPropagation(affinity='precomputed', convergence_iter=7, max_iter=400)"
      ]
     },
     "execution_count": 7,
     "metadata": {},
     "output_type": "execute_result"
    }
   ],
   "source": [
    "from sklearn.cluster import AffinityPropagation \n",
    "affprop = AffinityPropagation(affinity=\"precomputed\", damping=0.5, convergence_iter=7, max_iter=400)\n",
    "affprop.fit(similarity)"
   ]
  },
  {
   "cell_type": "code",
   "execution_count": 8,
   "metadata": {},
   "outputs": [],
   "source": [
    "cluster_centers_indices = affprop.cluster_centers_indices_\n",
    "labels = affprop.labels_"
   ]
  },
  {
   "cell_type": "code",
   "execution_count": 9,
   "metadata": {},
   "outputs": [
    {
     "data": {
      "text/plain": [
       "array([4], dtype=int64)"
      ]
     },
     "execution_count": 9,
     "metadata": {},
     "output_type": "execute_result"
    }
   ],
   "source": [
    "cluster_centers_indices"
   ]
  },
  {
   "cell_type": "code",
   "execution_count": 32,
   "metadata": {},
   "outputs": [
    {
     "data": {
      "text/plain": [
       "array([[1.  , 0.8 , 0.25],\n",
       "       [0.8 , 1.  , 0.25],\n",
       "       [0.25, 0.25, 1.  ]])"
      ]
     },
     "execution_count": 32,
     "metadata": {},
     "output_type": "execute_result"
    }
   ],
   "source": [
    "from sklearn.cluster import AffinityPropagation\n",
    "from sklearn import metrics\n",
    "from sklearn.datasets import make_blobs\n",
    "\n",
    "matrix = [  [1,     0.8,    1/4 ],\n",
    "            [0.8,   1,      1/4 ],\n",
    "            [1/4,   1/4,    1 ]]\n",
    "X = np.array(matrix)\n",
    "X"
   ]
  },
  {
   "cell_type": "code",
   "execution_count": 35,
   "metadata": {},
   "outputs": [
    {
     "data": {
      "text/plain": [
       "2"
      ]
     },
     "execution_count": 35,
     "metadata": {},
     "output_type": "execute_result"
    }
   ],
   "source": [
    "# Compute Affinity Propagation\n",
    "af = AffinityPropagation(affinity=\"precomputed\").fit(X)\n",
    "cluster_centers_indices = af.cluster_centers_indices_\n",
    "labels = af.labels_\n",
    "\n",
    "n_clusters_ = len(cluster_centers_indices)\n",
    "n_clusters_"
   ]
  },
  {
   "cell_type": "code",
   "execution_count": 36,
   "metadata": {},
   "outputs": [
    {
     "data": {
      "image/png": "[encoded data removed]",
      "text/plain": [
       "<Figure size 432x288 with 1 Axes>"
      ]
     },
     "metadata": {
      "needs_background": "light"
     },
     "output_type": "display_data"
    }
   ],
   "source": [
    "# #############################################################################\n",
    "# Plot result\n",
    "import matplotlib.pyplot as plt\n",
    "from itertools import cycle\n",
    "\n",
    "plt.close(\"all\")\n",
    "plt.figure(1)\n",
    "plt.clf()\n",
    "\n",
    "colors = cycle(\"bgrcmykbgrcmykbgrcmykbgrcmyk\")\n",
    "for k, col in zip(range(n_clusters_), colors):\n",
    "    class_members = labels == k\n",
    "    cluster_center = X[cluster_centers_indices[k]]\n",
    "    plt.plot(X[class_members, 0], X[class_members, 1], col + \".\")\n",
    "    plt.plot(\n",
    "        cluster_center[0],\n",
    "        cluster_center[1],\n",
    "        \"o\",\n",
    "        markerfacecolor=col,\n",
    "        markeredgecolor=\"k\",\n",
    "        markersize=14,\n",
    "    )\n",
    "    for x in X[class_members]:\n",
    "        plt.plot([cluster_center[0], x[0]], [cluster_center[1], x[1]], col)\n",
    "\n",
    "plt.title(\"Estimated number of clusters: %d\" % n_clusters_)\n",
    "plt.show()"
   ]
  },
  {
   "cell_type": "code",
   "execution_count": 21,
   "metadata": {},
   "outputs": [
    {
     "name": "stdout",
     "output_type": "stream",
     "text": [
      "CCI: \n",
      "[0 1]\n"
     ]
    },
    {
     "data": {
      "image/png": "[encoded data removed]",
      "text/plain": [
       "<Figure size 432x288 with 1 Axes>"
      ]
     },
     "metadata": {
      "needs_background": "light"
     },
     "output_type": "display_data"
    },
    {
     "name": "stdout",
     "output_type": "stream",
     "text": [
      "[0 1 1]\n"
     ]
    }
   ],
   "source": [
    "import numpy as np\n",
    "from sklearn.cluster import AffinityPropagation\n",
    "\n",
    "similarity_matrix = [[1,0.9,0.9], [0.9,1,1], [0.9,1,1]]\n",
    "X = np.array(similarity_matrix)\n",
    "af = AffinityPropagation(affinity=\"precomputed\", damping=0.5, convergence_iter=7, max_iter=400).fit(X)\n",
    "cluster_centers_indices = af.cluster_centers_indices_\n",
    "labels = af.labels_\n",
    "\n",
    "print(\"CCI: \")\n",
    "print(cluster_centers_indices)\n",
    "\n",
    "import matplotlib.pyplot as plt\n",
    "from itertools import cycle\n",
    "\n",
    "plt.close(\"all\")\n",
    "plt.figure(1)\n",
    "plt.clf()\n",
    "\n",
    "n_clusters_ = len(cluster_centers_indices)\n",
    "n_clusters_\n",
    "\n",
    "colors = cycle(\"bgrcmykbgrcmykbgrcmykbgrcmyk\")\n",
    "for k, col in zip(range(n_clusters_), colors):\n",
    "    class_members = labels == k\n",
    "    cluster_center = X[cluster_centers_indices[k]]\n",
    "    plt.plot(X[class_members, 0], X[class_members, 1], col + \".\")\n",
    "    plt.plot(\n",
    "        cluster_center[0],\n",
    "        cluster_center[1],\n",
    "        \"o\",\n",
    "        markerfacecolor=col,\n",
    "        markeredgecolor=\"k\",\n",
    "        markersize=14,\n",
    "    )\n",
    "    for x in X[class_members]:\n",
    "        plt.plot([cluster_center[0], x[0]], [cluster_center[1], x[1]], col)\n",
    "\n",
    "plt.title(\"Estimated number of clusters: %d\" % n_clusters_)\n",
    "plt.show()\n",
    "\n",
    "print(labels)"
   ]
  }
 ],
 "metadata": {
  "interpreter": {
   "hash": "ed982b9b6081d1d9e59ed82f711d227adf8310dd235d41e3a5d30a82931f91e3"
  },
  "kernelspec": {
   "display_name": "Python 3.9.1 64-bit",
   "language": "python",
   "name": "python3"
  },
  "language_info": {
   "codemirror_mode": {
    "name": "ipython",
    "version": 3
   },
   "file_extension": ".py",
   "mimetype": "text/x-python",
   "name": "python",
   "nbconvert_exporter": "python",
   "pygments_lexer": "ipython3",
   "version": "3.9.1"
  },
  "orig_nbformat": 4
 },
 "nbformat": 4,
 "nbformat_minor": 2
}

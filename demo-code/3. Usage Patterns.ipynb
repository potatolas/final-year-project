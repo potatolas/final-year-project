{
 "cells": [
  {
   "cell_type": "markdown",
   "metadata": {},
   "source": [
    "# Final Year Project\n",
    "## Finding Usage Patterns\n",
    "\n",
    "Target Project: Sudoku Robot Master (https://github.com/Sanahm/Sudoku-robot) <br>\n",
    "Target Library: Tensorflow\n",
    "\n",
    "In the open source project for Sudoku Robot Master, the library **Tensorflow** is being used in the python file named **mnist_model_convolutionnel.py**"
   ]
  },
  {
   "cell_type": "markdown",
   "metadata": {},
   "source": [
    "### Preparing Datas\n",
    "\n",
    "The data from previous 2 prcoesses (Identifying Method Invocations and Indentifying Call Sequences) are being prepared in the following segement."
   ]
  },
  {
   "cell_type": "code",
   "execution_count": 1,
   "metadata": {},
   "outputs": [],
   "source": [
    "#get call sequences list from other jupyter file\n",
    "%store -r call_sequences \n",
    "\n",
    "method_invocations = []\n",
    "call_sequences = call_sequences\n",
    "\n",
    "#get list of all method invocations\n",
    "for call_sequence in call_sequences:\n",
    "    for method in call_sequence:\n",
    "        if(method not in method_invocations):\n",
    "            method_invocations.append(method)\n",
    "\n",
    "#save method invocationss as defined MethodCall class into new list\n",
    "from classes import MethodCall\n",
    "method_invocations_processed = []\n",
    "for method in method_invocations:\n",
    "    x = \"\"\n",
    "    try:\n",
    "        x = (method.func.value.value + \".\" + method.func.attr.value)\n",
    "    except:\n",
    "        pass\n",
    "    try:\n",
    "        x = (method.func.value.value.value + \".\" + method.func.value.attr.value + \".\" + method.func.attr.value)\n",
    "    except:\n",
    "        pass\n",
    "    method_invocations_processed.append(MethodCall(x, method))\n",
    "\n",
    "#save method in call seqeunces as defined MethodCall class into new list\n",
    "call_sequences_processed = []\n",
    "for call_sequence in call_sequences:\n",
    "    temp_call_sequence = []\n",
    "    for call in call_sequence:\n",
    "        x = \"\"\n",
    "        try:\n",
    "            x = (call.func.value.value + \".\" + call.func.attr.value)\n",
    "        except:\n",
    "            pass\n",
    "        try:\n",
    "            x = (call.func.value.value.value + \".\" + call.func.value.attr.value + \".\" + call.func.attr.value)\n",
    "        except:\n",
    "            pass\n",
    "        temp_call_sequence.append(MethodCall(x, call))\n",
    "    call_sequences_processed.append(temp_call_sequence)"
   ]
  },
  {
   "cell_type": "markdown",
   "metadata": {},
   "source": [
    "### Finding Usage Pattern of 'tf.Variable' (Example)\n",
    "\n",
    "Firstly, to find the usage pattern of the method 'tf.Variable()', the invocation of the method will be saved as 'target_method'."
   ]
  },
  {
   "cell_type": "code",
   "execution_count": 2,
   "metadata": {},
   "outputs": [
    {
     "data": {
      "text/plain": [
       "'tf.Variable'"
      ]
     },
     "execution_count": 2,
     "metadata": {},
     "output_type": "execute_result"
    }
   ],
   "source": [
    "target_method = method_invocations_processed[15]\n",
    "target_method.name"
   ]
  },
  {
   "cell_type": "markdown",
   "metadata": {},
   "source": [
    "Next, call sequences that contains the invocation of 'tf.Variable' will be picked out. <br>\n",
    "The following shows that there are 2 call sequences that contain the invocation of method 'tf.Variable'. <br>"
   ]
  },
  {
   "cell_type": "code",
   "execution_count": 3,
   "metadata": {},
   "outputs": [
    {
     "data": {
      "text/plain": [
       "[[<classes.MethodCall at 0x1b248ddbb50>,\n",
       "  <classes.MethodCall at 0x1b248ddbbb0>],\n",
       " [<classes.MethodCall at 0x1b248ddbc10>,\n",
       "  <classes.MethodCall at 0x1b248ddbc70>]]"
      ]
     },
     "execution_count": 3,
     "metadata": {},
     "output_type": "execute_result"
    }
   ],
   "source": [
    "from functions import search_call_sequence\n",
    "\n",
    "valid_call_sequences = search_call_sequence(target_method, call_sequences_processed)\n",
    "valid_call_sequences"
   ]
  },
  {
   "cell_type": "markdown",
   "metadata": {},
   "source": [
    "Next, we call the method 'generage_usage_pattern' to generate the usage pattern for this method in both call sequences. <br>\n",
    "The implementation of this method can be found at 'functions.py'. "
   ]
  },
  {
   "cell_type": "code",
   "execution_count": 4,
   "metadata": {},
   "outputs": [
    {
     "name": "stdout",
     "output_type": "stream",
     "text": [
      "========== Usage Pattern ==========\n",
      "Target Method: tf.Variable\n",
      "Pre-Set: {}\n",
      "Post-Set: {tf.truncated_normal}\n",
      "Accompany-Set: {}\n",
      "===================================\n",
      "========== Usage Pattern ==========\n",
      "Target Method: tf.Variable\n",
      "Pre-Set: {}\n",
      "Post-Set: {tf.constant}\n",
      "Accompany-Set: {}\n",
      "===================================\n"
     ]
    }
   ],
   "source": [
    "from functions import generate_usage_pattern\n",
    "\n",
    "for valid_call_sequence in valid_call_sequences:\n",
    "    generate_usage_pattern(target_method, valid_call_sequence).print()"
   ]
  },
  {
   "cell_type": "markdown",
   "metadata": {},
   "source": [
    "### Finding Usage Pattern of All Method Invocations\n",
    "\n",
    "The above steps are repeated for all Method Invocations. <br>\n",
    "The Usage Patterns of each method can be seen below."
   ]
  },
  {
   "cell_type": "code",
   "execution_count": 5,
   "metadata": {},
   "outputs": [
    {
     "name": "stdout",
     "output_type": "stream",
     "text": [
      "~ tf.placeholder\n",
      "========== Usage Pattern ==========\n",
      "Target Method: tf.placeholder\n",
      "Pre-Set: {tf.reshape}\n",
      "Post-Set: {tf.reshape, tf.argmax}\n",
      "Accompany-Set: {}\n",
      "===================================\n",
      "\n",
      "\n",
      "~ tf.reshape\n",
      "========== Usage Pattern ==========\n",
      "Target Method: tf.reshape\n",
      "Pre-Set: {tf.placeholder}\n",
      "Post-Set: {tf.placeholder, tf.argmax}\n",
      "Accompany-Set: {}\n",
      "===================================\n",
      "========== Usage Pattern ==========\n",
      "Target Method: tf.reshape\n",
      "Pre-Set: {}\n",
      "Post-Set: {}\n",
      "Accompany-Set: {}\n",
      "===================================\n",
      "\n",
      "\n",
      "~ tf.argmax\n",
      "========== Usage Pattern ==========\n",
      "Target Method: tf.argmax\n",
      "Pre-Set: {tf.placeholder, tf.reshape}\n",
      "Post-Set: {}\n",
      "Accompany-Set: {}\n",
      "===================================\n",
      "========== Usage Pattern ==========\n",
      "Target Method: tf.argmax\n",
      "Pre-Set: {tf.nn.softmax}\n",
      "Post-Set: {tf.reduce_mean, tf.nn.softmax_cross_entropy_with_logits, tf.train.GradientDescentOptimizer, tf.equal, tf.cast, tf.global_variables_initializer, tf.train.Saver, tf.Session}\n",
      "Accompany-Set: {}\n",
      "===================================\n",
      "\n",
      "\n",
      "~ tf.nn.softmax\n",
      "========== Usage Pattern ==========\n",
      "Target Method: tf.nn.softmax\n",
      "Pre-Set: {}\n",
      "Post-Set: {tf.argmax, tf.reduce_mean, tf.nn.softmax_cross_entropy_with_logits, tf.train.GradientDescentOptimizer, tf.equal, tf.cast, tf.global_variables_initializer, tf.train.Saver, tf.Session}\n",
      "Accompany-Set: {}\n",
      "===================================\n",
      "\n",
      "\n",
      "~ tf.reduce_mean\n",
      "========== Usage Pattern ==========\n",
      "Target Method: tf.reduce_mean\n",
      "Pre-Set: {tf.nn.softmax, tf.argmax, tf.nn.softmax_cross_entropy_with_logits, tf.train.GradientDescentOptimizer, tf.equal}\n",
      "Post-Set: {tf.nn.softmax_cross_entropy_with_logits, tf.train.GradientDescentOptimizer, tf.equal, tf.cast, tf.global_variables_initializer, tf.train.Saver, tf.Session}\n",
      "Accompany-Set: {}\n",
      "===================================\n",
      "\n",
      "\n",
      "~ tf.nn.softmax_cross_entropy_with_logits\n",
      "========== Usage Pattern ==========\n",
      "Target Method: tf.nn.softmax_cross_entropy_with_logits\n",
      "Pre-Set: {tf.nn.softmax, tf.argmax, tf.reduce_mean}\n",
      "Post-Set: {tf.train.GradientDescentOptimizer, tf.equal, tf.reduce_mean, tf.cast, tf.global_variables_initializer, tf.train.Saver, tf.Session}\n",
      "Accompany-Set: {}\n",
      "===================================\n",
      "\n",
      "\n",
      "~ tf.train.GradientDescentOptimizer\n",
      "========== Usage Pattern ==========\n",
      "Target Method: tf.train.GradientDescentOptimizer\n",
      "Pre-Set: {tf.nn.softmax, tf.argmax, tf.reduce_mean, tf.nn.softmax_cross_entropy_with_logits}\n",
      "Post-Set: {tf.equal, tf.reduce_mean, tf.cast, tf.global_variables_initializer, tf.train.Saver, tf.Session}\n",
      "Accompany-Set: {}\n",
      "===================================\n",
      "\n",
      "\n",
      "~ tf.equal\n",
      "========== Usage Pattern ==========\n",
      "Target Method: tf.equal\n",
      "Pre-Set: {tf.nn.softmax, tf.argmax, tf.reduce_mean, tf.nn.softmax_cross_entropy_with_logits, tf.train.GradientDescentOptimizer}\n",
      "Post-Set: {tf.reduce_mean, tf.cast, tf.global_variables_initializer, tf.train.Saver, tf.Session}\n",
      "Accompany-Set: {}\n",
      "===================================\n",
      "\n",
      "\n",
      "~ tf.cast\n",
      "========== Usage Pattern ==========\n",
      "Target Method: tf.cast\n",
      "Pre-Set: {tf.nn.softmax, tf.argmax, tf.reduce_mean, tf.nn.softmax_cross_entropy_with_logits, tf.train.GradientDescentOptimizer, tf.equal}\n",
      "Post-Set: {tf.global_variables_initializer, tf.train.Saver, tf.Session}\n",
      "Accompany-Set: {}\n",
      "===================================\n",
      "\n",
      "\n",
      "~ tf.global_variables_initializer\n",
      "========== Usage Pattern ==========\n",
      "Target Method: tf.global_variables_initializer\n",
      "Pre-Set: {tf.nn.softmax, tf.argmax, tf.reduce_mean, tf.nn.softmax_cross_entropy_with_logits, tf.train.GradientDescentOptimizer, tf.equal, tf.cast}\n",
      "Post-Set: {tf.train.Saver, tf.Session}\n",
      "Accompany-Set: {}\n",
      "===================================\n",
      "\n",
      "\n",
      "~ tf.train.Saver\n",
      "========== Usage Pattern ==========\n",
      "Target Method: tf.train.Saver\n",
      "Pre-Set: {tf.nn.softmax, tf.argmax, tf.reduce_mean, tf.nn.softmax_cross_entropy_with_logits, tf.train.GradientDescentOptimizer, tf.equal, tf.cast, tf.global_variables_initializer}\n",
      "Post-Set: {tf.Session}\n",
      "Accompany-Set: {}\n",
      "===================================\n",
      "\n",
      "\n",
      "~ tf.Session\n",
      "========== Usage Pattern ==========\n",
      "Target Method: tf.Session\n",
      "Pre-Set: {tf.nn.softmax, tf.argmax, tf.reduce_mean, tf.nn.softmax_cross_entropy_with_logits, tf.train.GradientDescentOptimizer, tf.equal, tf.cast, tf.global_variables_initializer, tf.train.Saver}\n",
      "Post-Set: {}\n",
      "Accompany-Set: {}\n",
      "===================================\n",
      "\n",
      "\n",
      "~ tf.Variable\n",
      "========== Usage Pattern ==========\n",
      "Target Method: tf.Variable\n",
      "Pre-Set: {}\n",
      "Post-Set: {tf.truncated_normal}\n",
      "Accompany-Set: {}\n",
      "===================================\n",
      "========== Usage Pattern ==========\n",
      "Target Method: tf.Variable\n",
      "Pre-Set: {}\n",
      "Post-Set: {tf.constant}\n",
      "Accompany-Set: {}\n",
      "===================================\n",
      "\n",
      "\n",
      "~ tf.truncated_normal\n",
      "========== Usage Pattern ==========\n",
      "Target Method: tf.truncated_normal\n",
      "Pre-Set: {tf.Variable}\n",
      "Post-Set: {}\n",
      "Accompany-Set: {}\n",
      "===================================\n",
      "\n",
      "\n",
      "~ tf.constant\n",
      "========== Usage Pattern ==========\n",
      "Target Method: tf.constant\n",
      "Pre-Set: {tf.Variable}\n",
      "Post-Set: {}\n",
      "Accompany-Set: {}\n",
      "===================================\n",
      "\n",
      "\n",
      "~ tf.nn.conv2d\n",
      "========== Usage Pattern ==========\n",
      "Target Method: tf.nn.conv2d\n",
      "Pre-Set: {}\n",
      "Post-Set: {tf.nn.max_pool, tf.nn.relu}\n",
      "Accompany-Set: {}\n",
      "===================================\n",
      "\n",
      "\n",
      "~ tf.nn.max_pool\n",
      "========== Usage Pattern ==========\n",
      "Target Method: tf.nn.max_pool\n",
      "Pre-Set: {tf.nn.conv2d}\n",
      "Post-Set: {tf.nn.relu}\n",
      "Accompany-Set: {}\n",
      "===================================\n",
      "\n",
      "\n",
      "~ tf.nn.relu\n",
      "========== Usage Pattern ==========\n",
      "Target Method: tf.nn.relu\n",
      "Pre-Set: {tf.nn.conv2d, tf.nn.max_pool}\n",
      "Post-Set: {}\n",
      "Accompany-Set: {}\n",
      "===================================\n",
      "========== Usage Pattern ==========\n",
      "Target Method: tf.nn.relu\n",
      "Pre-Set: {tf.matmul}\n",
      "Post-Set: {}\n",
      "Accompany-Set: {}\n",
      "===================================\n",
      "\n",
      "\n",
      "~ tf.matmul\n",
      "========== Usage Pattern ==========\n",
      "Target Method: tf.matmul\n",
      "Pre-Set: {}\n",
      "Post-Set: {tf.nn.relu}\n",
      "Accompany-Set: {}\n",
      "===================================\n",
      "\n",
      "\n"
     ]
    }
   ],
   "source": [
    "target_method_done = []\n",
    "\n",
    "for target_method in method_invocations_processed:\n",
    "    if(target_method.name not in target_method_done):\n",
    "        print(\"~ \" + target_method.name)\n",
    "        valid_call_sequences = search_call_sequence(target_method, call_sequences_processed)\n",
    "        for valid_call_sequence in valid_call_sequences:\n",
    "            generate_usage_pattern(target_method, valid_call_sequence).print()\n",
    "        target_method_done.append(target_method.name)\n",
    "        print()\n",
    "        print()"
   ]
  },
  {
   "cell_type": "markdown",
   "metadata": {},
   "source": [
    "### Storing Usage Pattern in a Master Dictionary\n",
    "\n",
    "Key: Name of Method <br>\n",
    "Value: List of Usage Patterns (List representing Pre, Post and Accompany Set)"
   ]
  },
  {
   "cell_type": "code",
   "execution_count": 6,
   "metadata": {},
   "outputs": [
    {
     "name": "stdout",
     "output_type": "stream",
     "text": [
      "Stored 'usage_pattern_dict' (dict)\n"
     ]
    }
   ],
   "source": [
    "target_method_done = []\n",
    "usage_pattern_dict = {}\n",
    "\n",
    "for target_method in method_invocations_processed:\n",
    "    if(target_method.name not in target_method_done):\n",
    "        usage_pattern_dict[target_method.name] = []\n",
    "        valid_call_sequences = search_call_sequence(target_method, call_sequences_processed)\n",
    "        for valid_call_sequence in valid_call_sequences:\n",
    "            temp_usage_pattern = generate_usage_pattern(target_method, valid_call_sequence)\n",
    "            usage_pattern_dict[target_method.name].append(temp_usage_pattern)\n",
    "        target_method_done.append(target_method.name)\n",
    "\n",
    "%store usage_pattern_dict"
   ]
  }
 ],
 "metadata": {
  "interpreter": {
   "hash": "ed982b9b6081d1d9e59ed82f711d227adf8310dd235d41e3a5d30a82931f91e3"
  },
  "kernelspec": {
   "display_name": "Python 3.9.1 64-bit",
   "language": "python",
   "name": "python3"
  },
  "language_info": {
   "codemirror_mode": {
    "name": "ipython",
    "version": 3
   },
   "file_extension": ".py",
   "mimetype": "text/x-python",
   "name": "python",
   "nbconvert_exporter": "python",
   "pygments_lexer": "ipython3",
   "version": "3.9.1"
  },
  "orig_nbformat": 4
 },
 "nbformat": 4,
 "nbformat_minor": 2
}

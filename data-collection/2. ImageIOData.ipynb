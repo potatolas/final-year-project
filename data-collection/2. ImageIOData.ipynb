{
 "cells": [
  {
   "cell_type": "code",
   "execution_count": null,
   "metadata": {},
   "outputs": [],
   "source": [
    "%store -r gif_imageio_master_call_sequences\n",
    "%store -r gify_master_call_sequences\n",
    "%store -r imageio_sketch_master_call_sequences\n",
    "\n",
    "import utils.utils as utils\n",
    "\n",
    "gif_imageio_master_call_sequences = gif_imageio_master_call_sequences\n",
    "gify_master_call_sequences = gify_master_call_sequences\n",
    "imageio_sketch_master_call_sequences = imageio_sketch_master_call_sequences\n",
    "\n",
    "call_sequences = imageio_sketch_master_call_sequences #+ gif_imageio_master_call_sequences + gify_master_call_sequences"
   ]
  },
  {
   "cell_type": "markdown",
   "metadata": {},
   "source": [
    "### 3. Usage Patterns"
   ]
  },
  {
   "cell_type": "code",
   "execution_count": null,
   "metadata": {},
   "outputs": [],
   "source": [
    "method_invocations = []\n",
    "\n",
    "#get list of all method invocations\n",
    "for call_sequence in call_sequences:\n",
    "    for method in call_sequence:\n",
    "        if(method not in method_invocations):\n",
    "            method_invocations.append(method)\n",
    "\n",
    "#save method invocationss as defined MethodCall class into new list\n",
    "method_invocations_processed = []\n",
    "for method in method_invocations:\n",
    "    x = \"\"\n",
    "    try:\n",
    "        x = (method.func.value.value + \".\" + method.func.attr.value)\n",
    "    except:\n",
    "        pass\n",
    "    try:\n",
    "        x = (method.func.value.value.value + \".\" + method.func.value.attr.value + \".\" + method.func.attr.value)\n",
    "    except:\n",
    "        pass\n",
    "    try:\n",
    "        x = (method.func.value.value.value.value + \".\" + method.func.value.value.attr.value + \".\" + method.func.value.attr.value + \".\" + method.func.attr.value )\n",
    "    except:\n",
    "        pass\n",
    "    try:\n",
    "        x = (method.func.value.value.value.value.value + \".\" + method.func.value.value.value.attr.value + \".\" + method.func.value.value.attr.value + \".\" + method.func.value.attr.value + \".\" + method.func.attr.value )\n",
    "    except:\n",
    "        pass\n",
    "    method_invocations_processed.append(utils.MethodCall(x, method))\n",
    "\n",
    "#save method in call seqeunces as defined MethodCall class into new list\n",
    "call_sequences_processed = []\n",
    "for call_sequence in call_sequences:\n",
    "    temp_call_sequence = []\n",
    "    for call in call_sequence:\n",
    "        x = \"\"\n",
    "        try:\n",
    "            x = (call.func.value.value + \".\" + call.func.attr.value)\n",
    "        except:\n",
    "            pass\n",
    "        try:\n",
    "            x = (call.func.value.value.value + \".\" + call.func.value.attr.value + \".\" + call.func.attr.value)\n",
    "        except:\n",
    "            pass\n",
    "        try:\n",
    "            x = (call.func.value.value.value.value + \".\" + call.func.value.value.attr.value + \".\" + call.func.value.attr.value + \".\" + call.func.attr.value )\n",
    "        except:\n",
    "            pass\n",
    "        try:\n",
    "            x = (call.func.value.value.value.value.value + \".\" + call.func.value.value.value.attr.value + \".\" + call.func.value.value.attr.value + \".\" + call.func.value.attr.value + \".\" + call.func.attr.value )\n",
    "        except:\n",
    "            pass\n",
    "        temp_call_sequence.append(utils.MethodCall(x, call))\n",
    "    call_sequences_processed.append(temp_call_sequence) \n",
    "\n",
    "target_method_done = []\n",
    "\n",
    "for target_method in method_invocations_processed:\n",
    "    if(target_method.name not in target_method_done):\n",
    "        print(\"~ \" + target_method.name)\n",
    "        valid_call_sequences = utils.search_call_sequence(target_method, call_sequences_processed)\n",
    "        for valid_call_sequence in valid_call_sequences:\n",
    "            utils.generate_usage_pattern(target_method, valid_call_sequence).print()\n",
    "        target_method_done.append(target_method.name)\n",
    "        print()\n",
    "        print()"
   ]
  },
  {
   "cell_type": "code",
   "execution_count": null,
   "metadata": {},
   "outputs": [],
   "source": [
    "target_method_done = []\n",
    "usage_pattern_dict = {}\n",
    "\n",
    "for target_method in method_invocations_processed:\n",
    "    if(target_method.name not in target_method_done):\n",
    "        usage_pattern_dict[target_method.name] = []\n",
    "        valid_call_sequences = utils.search_call_sequence(target_method, call_sequences_processed)\n",
    "        for valid_call_sequence in valid_call_sequences:\n",
    "            temp_usage_pattern = utils.generate_usage_pattern(target_method, valid_call_sequence)\n",
    "            usage_pattern_dict[target_method.name].append(temp_usage_pattern)\n",
    "        target_method_done.append(target_method.name)"
   ]
  },
  {
   "cell_type": "markdown",
   "metadata": {},
   "source": [
    "### 4. Sequence Clusters"
   ]
  },
  {
   "cell_type": "code",
   "execution_count": null,
   "metadata": {},
   "outputs": [],
   "source": [
    "from pandas import *\n",
    "for key in usage_pattern_dict:\n",
    "    print(\"=================================================\")\n",
    "    print(\"Method Invocation: \" + key)\n",
    "    print()\n",
    "\n",
    "    target_usage_pattern_list = usage_pattern_dict[key]\n",
    "\n",
    "    if len(target_usage_pattern_list) == 1:\n",
    "        print(\"Method Invocation contains only 1 usage pattern.\")\n",
    "        print(\"No clusters are generated. \")\n",
    "    else:\n",
    "        similarity_matrix = utils.generate_similarity_matrix(target_usage_pattern_list)\n",
    "        print(\"Similarity Matrix: \")\n",
    "        print(DataFrame(similarity_matrix))\n",
    "        print()\n",
    "        utils.generate_clusters(similarity_matrix, True)"
   ]
  }
 ],
 "metadata": {
  "interpreter": {
   "hash": "ed982b9b6081d1d9e59ed82f711d227adf8310dd235d41e3a5d30a82931f91e3"
  },
  "kernelspec": {
   "display_name": "Python 3.9.1 64-bit",
   "language": "python",
   "name": "python3"
  },
  "language_info": {
   "codemirror_mode": {
    "name": "ipython",
    "version": 3
   },
   "file_extension": ".py",
   "mimetype": "text/x-python",
   "name": "python",
   "nbconvert_exporter": "python",
   "pygments_lexer": "ipython3",
   "version": "3.9.1"
  },
  "orig_nbformat": 4
 },
 "nbformat": 4,
 "nbformat_minor": 2
}

{
 "cells": [
  {
   "cell_type": "code",
   "execution_count": 1,
   "metadata": {},
   "outputs": [],
   "source": [
    "%store -r gif_imageio_master_call_sequences\n",
    "%store -r gify_master_call_sequences\n",
    "%store -r imageio_sketch_master_call_sequences\n",
    "%store -r stylenerf_main_call_sequences\n",
    "\n",
    "import utils.utils as utils\n",
    "\n",
    "gif_imageio_master_call_sequences = gif_imageio_master_call_sequences\n",
    "gify_master_call_sequences = gify_master_call_sequences\n",
    "imageio_sketch_master_call_sequences = imageio_sketch_master_call_sequences\n",
    "stylenerf_main_call_sequences = stylenerf_main_call_sequences\n",
    "\n",
    "call_sequences = gif_imageio_master_call_sequences + gify_master_call_sequences + imageio_sketch_master_call_sequences + stylenerf_main_call_sequences"
   ]
  },
  {
   "cell_type": "markdown",
   "metadata": {},
   "source": [
    "### 3. Usage Patterns"
   ]
  },
  {
   "cell_type": "code",
   "execution_count": 2,
   "metadata": {},
   "outputs": [
    {
     "name": "stdout",
     "output_type": "stream",
     "text": [
      "~ imageio.get_reader\n",
      "========== Usage Pattern ==========\n",
      "Target Method: imageio.get_reader\n",
      "Pre-Set: {}\n",
      "Post-Set: {imageio.get_writer}\n",
      "Accompany-Set: {}\n",
      "===================================\n",
      "\n",
      "\n",
      "~ imageio.get_writer\n",
      "========== Usage Pattern ==========\n",
      "Target Method: imageio.get_writer\n",
      "Pre-Set: {imageio.get_reader}\n",
      "Post-Set: {}\n",
      "Accompany-Set: {}\n",
      "===================================\n",
      "========== Usage Pattern ==========\n",
      "Target Method: imageio.get_writer\n",
      "Pre-Set: {}\n",
      "Post-Set: {}\n",
      "Accompany-Set: {}\n",
      "===================================\n",
      "========== Usage Pattern ==========\n",
      "Target Method: imageio.get_writer\n",
      "Pre-Set: {}\n",
      "Post-Set: {}\n",
      "Accompany-Set: {}\n",
      "===================================\n",
      "========== Usage Pattern ==========\n",
      "Target Method: imageio.get_writer\n",
      "Pre-Set: {}\n",
      "Post-Set: {}\n",
      "Accompany-Set: {}\n",
      "===================================\n",
      "========== Usage Pattern ==========\n",
      "Target Method: imageio.get_writer\n",
      "Pre-Set: {}\n",
      "Post-Set: {}\n",
      "Accompany-Set: {}\n",
      "===================================\n",
      "\n",
      "\n",
      "~ imageio.imread\n",
      "========== Usage Pattern ==========\n",
      "Target Method: imageio.imread\n",
      "Pre-Set: {}\n",
      "Post-Set: {imageio.mimsave}\n",
      "Accompany-Set: {}\n",
      "===================================\n",
      "========== Usage Pattern ==========\n",
      "Target Method: imageio.imread\n",
      "Pre-Set: {}\n",
      "Post-Set: {}\n",
      "Accompany-Set: {}\n",
      "===================================\n",
      "========== Usage Pattern ==========\n",
      "Target Method: imageio.imread\n",
      "Pre-Set: {}\n",
      "Post-Set: {}\n",
      "Accompany-Set: {}\n",
      "===================================\n",
      "\n",
      "\n",
      "~ imageio.mimsave\n",
      "========== Usage Pattern ==========\n",
      "Target Method: imageio.mimsave\n",
      "Pre-Set: {imageio.imread}\n",
      "Post-Set: {}\n",
      "Accompany-Set: {}\n",
      "===================================\n",
      "\n",
      "\n",
      "~ imageio.mimwrite\n",
      "========== Usage Pattern ==========\n",
      "Target Method: imageio.mimwrite\n",
      "Pre-Set: {}\n",
      "Post-Set: {}\n",
      "Accompany-Set: {}\n",
      "===================================\n",
      "========== Usage Pattern ==========\n",
      "Target Method: imageio.mimwrite\n",
      "Pre-Set: {}\n",
      "Post-Set: {}\n",
      "Accompany-Set: {}\n",
      "===================================\n",
      "========== Usage Pattern ==========\n",
      "Target Method: imageio.mimwrite\n",
      "Pre-Set: {}\n",
      "Post-Set: {}\n",
      "Accompany-Set: {}\n",
      "===================================\n",
      "========== Usage Pattern ==========\n",
      "Target Method: imageio.mimwrite\n",
      "Pre-Set: {}\n",
      "Post-Set: {}\n",
      "Accompany-Set: {}\n",
      "===================================\n",
      "\n",
      "\n"
     ]
    }
   ],
   "source": [
    "method_invocations = []\n",
    "\n",
    "#get list of all method invocations\n",
    "for call_sequence in call_sequences:\n",
    "    for method in call_sequence:\n",
    "        if(method not in method_invocations):\n",
    "            method_invocations.append(method)\n",
    "\n",
    "#save method invocationss as defined MethodCall class into new list\n",
    "method_invocations_processed = []\n",
    "for method in method_invocations:\n",
    "    x = \"\"\n",
    "    try:\n",
    "        x = (method.func.value.value + \".\" + method.func.attr.value)\n",
    "    except:\n",
    "        pass\n",
    "    try:\n",
    "        x = (method.func.value.value.value + \".\" + method.func.value.attr.value + \".\" + method.func.attr.value)\n",
    "    except:\n",
    "        pass\n",
    "    try:\n",
    "        x = (method.func.value.value.value.value + \".\" + method.func.value.value.attr.value + \".\" + method.func.value.attr.value + \".\" + method.func.attr.value )\n",
    "    except:\n",
    "        pass\n",
    "    try:\n",
    "        x = (method.func.value.value.value.value.value + \".\" + method.func.value.value.value.attr.value + \".\" + method.func.value.value.attr.value + \".\" + method.func.value.attr.value + \".\" + method.func.attr.value )\n",
    "    except:\n",
    "        pass\n",
    "    method_invocations_processed.append(utils.MethodCall(x, method))\n",
    "\n",
    "#save method in call seqeunces as defined MethodCall class into new list\n",
    "call_sequences_processed = []\n",
    "for call_sequence in call_sequences:\n",
    "    temp_call_sequence = []\n",
    "    for call in call_sequence:\n",
    "        x = \"\"\n",
    "        try:\n",
    "            x = (call.func.value.value + \".\" + call.func.attr.value)\n",
    "        except:\n",
    "            pass\n",
    "        try:\n",
    "            x = (call.func.value.value.value + \".\" + call.func.value.attr.value + \".\" + call.func.attr.value)\n",
    "        except:\n",
    "            pass\n",
    "        try:\n",
    "            x = (call.func.value.value.value.value + \".\" + call.func.value.value.attr.value + \".\" + call.func.value.attr.value + \".\" + call.func.attr.value )\n",
    "        except:\n",
    "            pass\n",
    "        try:\n",
    "            x = (call.func.value.value.value.value.value + \".\" + call.func.value.value.value.attr.value + \".\" + call.func.value.value.attr.value + \".\" + call.func.value.attr.value + \".\" + call.func.attr.value )\n",
    "        except:\n",
    "            pass\n",
    "        temp_call_sequence.append(utils.MethodCall(x, call))\n",
    "    call_sequences_processed.append(temp_call_sequence) \n",
    "\n",
    "target_method_done = []\n",
    "\n",
    "for target_method in method_invocations_processed:\n",
    "    if(target_method.name not in target_method_done):\n",
    "        print(\"~ \" + target_method.name)\n",
    "        valid_call_sequences = utils.search_call_sequence(target_method, call_sequences_processed)\n",
    "        for valid_call_sequence in valid_call_sequences:\n",
    "            utils.generate_usage_pattern(target_method, valid_call_sequence).print()\n",
    "        target_method_done.append(target_method.name)\n",
    "        print()\n",
    "        print()"
   ]
  },
  {
   "cell_type": "code",
   "execution_count": 3,
   "metadata": {},
   "outputs": [],
   "source": [
    "target_method_done = []\n",
    "usage_pattern_dict = {}\n",
    "\n",
    "for target_method in method_invocations_processed:\n",
    "    if(target_method.name not in target_method_done):\n",
    "        usage_pattern_dict[target_method.name] = []\n",
    "        valid_call_sequences = utils.search_call_sequence(target_method, call_sequences_processed)\n",
    "        for valid_call_sequence in valid_call_sequences:\n",
    "            temp_usage_pattern = utils.generate_usage_pattern(target_method, valid_call_sequence)\n",
    "            usage_pattern_dict[target_method.name].append(temp_usage_pattern)\n",
    "        target_method_done.append(target_method.name)"
   ]
  },
  {
   "cell_type": "markdown",
   "metadata": {},
   "source": [
    "### 4. Sequence Clusters"
   ]
  },
  {
   "cell_type": "code",
   "execution_count": 9,
   "metadata": {},
   "outputs": [
    {
     "name": "stdout",
     "output_type": "stream",
     "text": [
      "=================================================\n",
      "Method Invocation: imageio.get_reader\n",
      "\n",
      "Method Invocation contains only 1 usage pattern.\n",
      "No clusters are generated. \n",
      "=================================================\n",
      "Method Invocation: imageio.get_writer\n",
      "\n",
      "Similarity Matrix: \n",
      "          0         1         2         3         4\n",
      "0  1.000000  0.666667  0.666667  0.666667  0.666667\n",
      "1  0.666667  1.000000  1.000000  1.000000  1.000000\n",
      "2  0.666667  1.000000  1.000000  1.000000  1.000000\n",
      "3  0.666667  1.000000  1.000000  1.000000  1.000000\n",
      "4  0.666667  1.000000  1.000000  1.000000  1.000000\n",
      "\n"
     ]
    },
    {
     "data": {
      "image/png": "[encoded data removed]",
      "text/plain": [
       "<Figure size 432x288 with 1 Axes>"
      ]
     },
     "metadata": {
      "needs_background": "light"
     },
     "output_type": "display_data"
    },
    {
     "name": "stdout",
     "output_type": "stream",
     "text": [
      "Labels:\n",
      "[0 1 1 1 1]\n",
      "=================================================\n",
      "Method Invocation: imageio.imread\n",
      "\n",
      "Similarity Matrix: \n",
      "          0         1         2\n",
      "0  1.000000  0.666667  0.666667\n",
      "1  0.666667  1.000000  1.000000\n",
      "2  0.666667  1.000000  1.000000\n",
      "\n"
     ]
    },
    {
     "data": {
      "image/png": "[encoded data removed]",
      "text/plain": [
       "<Figure size 432x288 with 1 Axes>"
      ]
     },
     "metadata": {
      "needs_background": "light"
     },
     "output_type": "display_data"
    },
    {
     "name": "stdout",
     "output_type": "stream",
     "text": [
      "Labels:\n",
      "[0 1 1]\n",
      "=================================================\n",
      "Method Invocation: imageio.mimsave\n",
      "\n",
      "Method Invocation contains only 1 usage pattern.\n",
      "No clusters are generated. \n",
      "=================================================\n",
      "Method Invocation: imageio.mimwrite\n",
      "\n",
      "Similarity Matrix: \n",
      "     0    1    2    3\n",
      "0  1.0  1.0  1.0  1.0\n",
      "1  1.0  1.0  1.0  1.0\n",
      "2  1.0  1.0  1.0  1.0\n",
      "3  1.0  1.0  1.0  1.0\n",
      "\n"
     ]
    },
    {
     "data": {
      "image/png": "[encoded data removed]",
      "text/plain": [
       "<Figure size 432x288 with 1 Axes>"
      ]
     },
     "metadata": {
      "needs_background": "light"
     },
     "output_type": "display_data"
    },
    {
     "name": "stdout",
     "output_type": "stream",
     "text": [
      "Labels:\n",
      "[0 1 2 3]\n"
     ]
    }
   ],
   "source": [
    "from pandas import *\n",
    "\n",
    "for key in usage_pattern_dict:\n",
    "    print(\"=================================================\")\n",
    "    print(\"Method Invocation: \" + key)\n",
    "    print()\n",
    "\n",
    "    target_usage_pattern_list = usage_pattern_dict[key]\n",
    "\n",
    "    if len(target_usage_pattern_list) == 1:\n",
    "        print(\"Method Invocation contains only 1 usage pattern.\")\n",
    "        print(\"No clusters are generated. \")\n",
    "    else:\n",
    "        similarity_matrix = utils.generate_similarity_matrix(target_usage_pattern_list)\n",
    "        print(\"Similarity Matrix: \")\n",
    "        print(DataFrame(similarity_matrix))\n",
    "        print()\n",
    "        utils.generate_clusters(similarity_matrix, True)"
   ]
  }
 ],
 "metadata": {
  "interpreter": {
   "hash": "ed982b9b6081d1d9e59ed82f711d227adf8310dd235d41e3a5d30a82931f91e3"
  },
  "kernelspec": {
   "display_name": "Python 3.9.1 64-bit",
   "language": "python",
   "name": "python3"
  },
  "language_info": {
   "codemirror_mode": {
    "name": "ipython",
    "version": 3
   },
   "file_extension": ".py",
   "mimetype": "text/x-python",
   "name": "python",
   "nbconvert_exporter": "python",
   "pygments_lexer": "ipython3",
   "version": "3.9.1"
  },
  "orig_nbformat": 4
 },
 "nbformat": 4,
 "nbformat_minor": 2
}

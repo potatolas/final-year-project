{
 "cells": [
  {
   "cell_type": "markdown",
   "metadata": {},
   "source": [
    "Target Project: Sudoku Robot Master (https://github.com/Sanahm/Sudoku-robot) <br>\n",
    "Target Library: Tensorflow"
   ]
  },
  {
   "cell_type": "markdown",
   "metadata": {},
   "source": [
    "### 1. Method Invocation"
   ]
  },
  {
   "cell_type": "code",
   "execution_count": 1,
   "metadata": {},
   "outputs": [
    {
     "name": "stdout",
     "output_type": "stream",
     "text": [
      "['tf.Variable', 'tf.truncated_normal', 'tf.Variable', 'tf.constant', 'tf.nn.conv2d', 'tf.nn.max_pool', 'tf.nn.relu', 'tf.reshape', 'tf.matmul', 'tf.nn.relu', 'tf.placeholder', 'tf.reshape', 'tf.placeholder', 'tf.float32', 'tf.argmax', 'tf.nn.softmax', 'tf.argmax', 'tf.reduce_mean', 'tf.nn.softmax_cross_entropy_with_logits', 'tf.train.GradientDescentOptimizer', 'tf.equal', 'tf.reduce_mean', 'tf.cast', 'tf.float32', 'tf.global_variables_initializer', 'tf.train.Saver', 'tf.Session']\n"
     ]
    }
   ],
   "source": [
    "import utils.utils as utils\n",
    "import data.SudokuRobotMaster as data\n",
    "\n",
    "import libcst as cst\n",
    "source_tree = cst.parse_module(data.file_string) #using libcst to parse module\n",
    "\n",
    "saved = []\n",
    "invocations = []\n",
    "\n",
    "class getMethodInvocation(cst.CSTVisitor):\n",
    "    def visit_Attribute(self, node: cst.Attribute) -> None:\n",
    "        # print(\"---------------------\")\n",
    "        # print(node.children)\n",
    "\n",
    "        try:\n",
    "            if(node.value.value.value.value == \"tf\"):\n",
    "                saved.append(node.value.value.value.value + \".\" + node.value.value.attr.value + \".\" + node.value.attr.value)\n",
    "                string = node.value.value.value.value + \".\" + node.value.value.attr.value + \".\" + node.value.attr.value + \".\" + node.attr.value\n",
    "                invocations.append(string)\n",
    "                return\n",
    "        except:\n",
    "            pass\n",
    "\n",
    "        try:\n",
    "            if(node.value.value.value.value == \"tf\"):\n",
    "                saved.append(node.value.value.value.value + \".\" + node.value.value.attr.value + \".\" + node.value.attr.value)\n",
    "                string = node.value.value.value.value + \".\" + node.value.value.attr.value + \".\" + node.value.attr.value + \".\" + node.attr.value\n",
    "                invocations.append(string)\n",
    "                return\n",
    "        except:\n",
    "            pass\n",
    "\n",
    "        try:\n",
    "            if(node.value.value.value == \"tf\"):\n",
    "                saved.append(node.value.value.value + \".\" + node.value.attr.value)\n",
    "                string = node.value.value.value + \".\" + node.value.attr.value + \".\" + node.attr.value\n",
    "                if(string not in saved ):\n",
    "                    invocations.append(string)\n",
    "                return\n",
    "        except:\n",
    "            pass\n",
    "\n",
    "        try:\n",
    "            if(node.value.value == \"tf\"):\n",
    "                string = node.value.value + \".\" +node.attr.value\n",
    "                if(string not in saved ):\n",
    "                    invocations.append(string)\n",
    "        except:\n",
    "            pass \n",
    "\n",
    "source_tree.visit(getMethodInvocation()) #traverse\n",
    "print(invocations)"
   ]
  },
  {
   "cell_type": "markdown",
   "metadata": {},
   "source": [
    "### 2. Call Sequences"
   ]
  },
  {
   "cell_type": "code",
   "execution_count": 2,
   "metadata": {},
   "outputs": [],
   "source": [
    "statements = source_tree.children\n",
    "simple_statement_lines = [] #list containing nodes of type SimpleStatementLines\n",
    "function_def_lines = [] #list containing nodes of type FunctionDef\n",
    "\n",
    "results = utils.sort_statements(statements)\n",
    "simple_statement_lines = results[0]\n",
    "function_def_lines = results[1]\n",
    "class_def_lines = results[2]"
   ]
  },
  {
   "cell_type": "code",
   "execution_count": 3,
   "metadata": {},
   "outputs": [],
   "source": [
    "calls = []\n",
    "calls_pIndex = []\n",
    "\n",
    "def call_search_SSL(parent, index):\n",
    "    if(isinstance(parent, cst.Call)):\n",
    "        try:\n",
    "            if(parent.func.value.value == 'tf'):\n",
    "                calls.append(parent)\n",
    "                calls_pIndex.append(index)\n",
    "            if(parent.func.value.value.value == 'tf'):\n",
    "                calls.append(parent)\n",
    "                calls_pIndex.append(index)\n",
    "            if(parent.func.value.value.value.value == 'tf'):\n",
    "                calls.append(parent)\n",
    "                calls_pIndex.append(index)\n",
    "            if(parent.func.value.value.value.value.value == 'tf'):\n",
    "                calls.append(parent)\n",
    "                calls_pIndex.append(index)\n",
    "        except:\n",
    "            pass\n",
    "    if(len(parent.children) == 0):\n",
    "        return\n",
    "    else:\n",
    "        for child in parent.children:\n",
    "            call_search_SSL(child, index)\n",
    "\n",
    "for i in range(len(simple_statement_lines)):\n",
    "    if(isinstance(simple_statement_lines[i], cst.SimpleStatementLine)):\n",
    "        call_search_SSL(simple_statement_lines[i], i)\n",
    "\n",
    "simpleStatementLine_calls = []\n",
    "\n",
    "for i in range(len(calls)):\n",
    "    simpleStatementLine_calls.append([calls_pIndex[i], calls[i]])\n",
    "\n",
    "\n",
    "groupings = utils.cluster(calls_pIndex, maxgap=1)\n",
    "\n",
    "call_sequences = []\n",
    "\n",
    "for group in groupings:\n",
    "    temp_call_sequence = []\n",
    "    for called in simpleStatementLine_calls:\n",
    "        if(called[0] in group):\n",
    "            #print(called[1])\n",
    "            temp_call_sequence.append(called[1])\n",
    "    call_sequences.append(temp_call_sequence)\n"
   ]
  },
  {
   "cell_type": "code",
   "execution_count": 4,
   "metadata": {},
   "outputs": [
    {
     "name": "stdout",
     "output_type": "stream",
     "text": [
      "Stored 'sudoku_robot_master_call_sequences' (list)\n"
     ]
    }
   ],
   "source": [
    "groups = []\n",
    "\n",
    "def call_search_FD(parent):\n",
    "    if(isinstance(parent, cst.Call)):\n",
    "        try:\n",
    "            if(parent.func.value.value == 'tf'):\n",
    "                group.append(parent)\n",
    "            if(parent.func.value.value.value == 'tf'):\n",
    "                group.append(parent)\n",
    "            if(parent.func.value.value.value.value == 'tf'):\n",
    "                group.append(parent)\n",
    "            if(parent.func.value.value.value.value.value == 'tf'):\n",
    "                group.append(parent)\n",
    "        except:\n",
    "            pass\n",
    "    if(len(parent.children) == 0):\n",
    "        return\n",
    "    else:\n",
    "        for child in parent.children:\n",
    "            call_search_FD(child)\n",
    "\n",
    "for function_def in function_def_lines:\n",
    "    if(isinstance(function_def, cst.FunctionDef)):\n",
    "        group = []\n",
    "        call_search_FD(function_def)\n",
    "        groups.append(group)\n",
    "\n",
    "for group in groups:\n",
    "    if(len(group) >= 1):\n",
    "        call_sequences.append(group)\n",
    "\n",
    "call_sequences\n",
    "\n",
    "sudoku_robot_master_call_sequences = call_sequences\n",
    "\n",
    "%store sudoku_robot_master_call_sequences"
   ]
  }
 ],
 "metadata": {
  "interpreter": {
   "hash": "ed982b9b6081d1d9e59ed82f711d227adf8310dd235d41e3a5d30a82931f91e3"
  },
  "kernelspec": {
   "display_name": "Python 3.9.1 64-bit",
   "language": "python",
   "name": "python3"
  },
  "language_info": {
   "codemirror_mode": {
    "name": "ipython",
    "version": 3
   },
   "file_extension": ".py",
   "mimetype": "text/x-python",
   "name": "python",
   "nbconvert_exporter": "python",
   "pygments_lexer": "ipython3",
   "version": "3.9.1"
  },
  "orig_nbformat": 4
 },
 "nbformat": 4,
 "nbformat_minor": 2
}

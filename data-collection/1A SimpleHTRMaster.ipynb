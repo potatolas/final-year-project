{
 "cells": [
  {
   "cell_type": "markdown",
   "metadata": {},
   "source": [
    "Target Project: SimpleHTR (https://github.com/githubharald/SimpleHTR) <br>\n",
    "Target Library: Tensorflow"
   ]
  },
  {
   "cell_type": "markdown",
   "metadata": {},
   "source": [
    "### 1. Method Invocation"
   ]
  },
  {
   "cell_type": "code",
   "execution_count": 1,
   "metadata": {},
   "outputs": [
    {
     "name": "stdout",
     "output_type": "stream",
     "text": [
      "['tf.compat.v1.disable_eager_execution', 'tf.compat.v1.placeholder', 'tf.bool', 'tf.compat.v1.placeholder', 'tf.float32', 'tf.compat.v1.get_collection', 'tf.compat.v1.GraphKeys', 'tf.control_dependencies', 'tf.compat.v1.train', 'tf.expand_dims', 'tf.Variable', 'tf.random.truncated_normal', 'tf.nn.conv2d', 'tf.compat.v1.layers', 'tf.nn.relu', 'tf.nn.max_pool2d', 'tf.squeeze', 'tf.compat.v1.nn', 'tf.compat.v1.nn', 'tf.compat.v1.nn', 'tf.expand_dims', 'tf.concat', 'tf.Variable', 'tf.random.truncated_normal', 'tf.squeeze', 'tf.nn.atrous_conv2d', 'tf.transpose', 'tf.SparseTensor', 'tf.compat.v1.placeholder', 'tf.int64', 'tf.compat.v1.placeholder', 'tf.int32', 'tf.compat.v1.placeholder', 'tf.int64', 'tf.compat.v1.placeholder', 'tf.int32', 'tf.reduce_mean', 'tf.compat.v1.nn', 'tf.compat.v1.placeholder', 'tf.float32', 'tf.compat.v1.nn', 'tf.nn.ctc_greedy_decoder', 'tf.nn.ctc_beam_search_decoder', 'tf.nn.softmax', 'tf.compat.v1.Session', 'tf.compat.v1.train', 'tf.__version__', 'tf.compat.v1.Session', 'tf.compat.v1.train', 'tf.train.latest_checkpoint', 'tf.compat.v1.global_variables_initializer']\n",
      "Number of invocations:  51\n",
      "Number of distinct invocations:  31\n"
     ]
    }
   ],
   "source": [
    "import utils.utils as utils\n",
    "import data.SimpleHTRMaster as data\n",
    "\n",
    "import libcst as cst\n",
    "source_tree = cst.parse_module(data.file_string) #using libcst to parse module\n",
    "\n",
    "saved = []\n",
    "invocations = []\n",
    "\n",
    "class getMethodInvocation(cst.CSTVisitor):\n",
    "    def visit_Attribute(self, node: cst.Attribute) -> None:\n",
    "        # print(\"---------------------\")\n",
    "        # print(node.children)\n",
    "\n",
    "        try:\n",
    "            if(node.value.value.value.value == \"tf\"):\n",
    "                saved.append(node.value.value.value.value + \".\" + node.value.value.attr.value + \".\" + node.value.attr.value)\n",
    "                string = node.value.value.value.value + \".\" + node.value.value.attr.value + \".\" + node.value.attr.value + \".\" + node.attr.value\n",
    "                invocations.append(string)\n",
    "                return\n",
    "        except:\n",
    "            pass\n",
    "\n",
    "        try:\n",
    "            if(node.value.value.value.value == \"tf\"):\n",
    "                saved.append(node.value.value.value.value + \".\" + node.value.value.attr.value + \".\" + node.value.attr.value)\n",
    "                string = node.value.value.value.value + \".\" + node.value.value.attr.value + \".\" + node.value.attr.value + \".\" + node.attr.value\n",
    "                invocations.append(string)\n",
    "                return\n",
    "        except:\n",
    "            pass\n",
    "\n",
    "        try:\n",
    "            if(node.value.value.value == \"tf\"):\n",
    "                saved.append(node.value.value.value + \".\" + node.value.attr.value)\n",
    "                string = node.value.value.value + \".\" + node.value.attr.value + \".\" + node.attr.value\n",
    "                if(string not in saved ):\n",
    "                    invocations.append(string)\n",
    "                return\n",
    "        except:\n",
    "            pass\n",
    "\n",
    "        try:\n",
    "            if(node.value.value == \"tf\"):\n",
    "                string = node.value.value + \".\" +node.attr.value\n",
    "                if(string not in saved ):\n",
    "                    invocations.append(string)\n",
    "        except:\n",
    "            pass \n",
    "\n",
    "source_tree.visit(getMethodInvocation()) #traverse\n",
    "print(invocations)\n",
    "import numpy as np\n",
    "print(\"Number of invocations: \", len(invocations))\n",
    "print(\"Number of distinct invocations: \", len(np.unique(np.array(invocations))))"
   ]
  },
  {
   "cell_type": "markdown",
   "metadata": {},
   "source": [
    "### 2. Call Sequences"
   ]
  },
  {
   "cell_type": "code",
   "execution_count": 2,
   "metadata": {},
   "outputs": [],
   "source": [
    "statements = source_tree.children\n",
    "simple_statement_lines = [] #list containing nodes of type SimpleStatementLines\n",
    "function_def_lines = [] #list containing nodes of type FunctionDef\n",
    "\n",
    "results = utils.sort_statements(statements)\n",
    "simple_statement_lines = results[0]\n",
    "function_def_lines = results[1]\n",
    "class_def_lines = results[2]\n",
    "\n",
    "calls = []\n",
    "calls_pIndex = []\n",
    "\n",
    "def call_search_SSL(parent, index):\n",
    "    if(isinstance(parent, cst.Call)):\n",
    "        try:\n",
    "            if(parent.func.value.value == 'tf'):\n",
    "                calls.append(parent)\n",
    "                calls_pIndex.append(index)\n",
    "            if(parent.func.value.value.value == 'tf'):\n",
    "                calls.append(parent)\n",
    "                calls_pIndex.append(index)\n",
    "            if(parent.func.value.value.value.value == 'tf'):\n",
    "                calls.append(parent)\n",
    "                calls_pIndex.append(index)\n",
    "        except:\n",
    "            pass\n",
    "    if(len(parent.children) == 0):\n",
    "        return\n",
    "    else:\n",
    "        for child in parent.children:\n",
    "            call_search_SSL(child, index)\n",
    "\n",
    "for i in range(len(simple_statement_lines)):\n",
    "    if(isinstance(simple_statement_lines[i], cst.SimpleStatementLine)):\n",
    "        call_search_SSL(simple_statement_lines[i], i)\n"
   ]
  },
  {
   "cell_type": "code",
   "execution_count": 3,
   "metadata": {},
   "outputs": [],
   "source": [
    "simpleStatementLine_calls = []\n",
    "\n",
    "for i in range(len(calls)):\n",
    "    simpleStatementLine_calls.append([calls_pIndex[i], calls[i]])\n",
    "\n",
    "groupings = utils.cluster(calls_pIndex, maxgap=1)\n",
    "\n",
    "#only 1 function call for tensorflow library in main source tree\n",
    "#no other function definition in main source tree\n",
    "#hence check for other class definition trees \n",
    "\n",
    "#Call Sequences\n",
    "\n",
    "call_sequences = []\n",
    "\n",
    "for group in groupings:\n",
    "    temp_call_sequence = []\n",
    "    for called in simpleStatementLine_calls:\n",
    "        if(called[0] in group):\n",
    "            #print(called[1])\n",
    "            temp_call_sequence.append(called[1])\n",
    "    call_sequences.append(temp_call_sequence)"
   ]
  },
  {
   "cell_type": "code",
   "execution_count": 4,
   "metadata": {},
   "outputs": [
    {
     "name": "stdout",
     "output_type": "stream",
     "text": [
      "Stored 'simple_htr_master_call_sequences' (list)\n"
     ]
    }
   ],
   "source": [
    "#only 2nd class definition tree contain tensorflow library API calls\n",
    "#hence only work on 2nd class definition tree 'class_def_lines[1]'\n",
    "#this tree does not contain any simplestatementlines that contains tensorflow library API calls\n",
    "#hence only work on function definitions\n",
    "\n",
    "results2 = utils.sort_statements(class_def_lines[1].body.body)\n",
    "results2[1]\n",
    "\n",
    "groups = []\n",
    "\n",
    "def call_search_FD(parent):\n",
    "    if(isinstance(parent, cst.Call)):\n",
    "        try:\n",
    "            if(parent.func.value.value == 'tf'):\n",
    "                group.append(parent)\n",
    "            if(parent.func.value.value.value == 'tf'):\n",
    "                group.append(parent)\n",
    "            if(parent.func.value.value.value.value == 'tf'):\n",
    "                group.append(parent)\n",
    "            if(parent.func.value.value.value.value.value == 'tf'):\n",
    "                group.append(parent)\n",
    "        except:\n",
    "            pass\n",
    "    if(len(parent.children) == 0):\n",
    "        return\n",
    "    else:\n",
    "        for child in parent.children:\n",
    "            call_search_FD(child)\n",
    "\n",
    "for function_def in results2[1]:\n",
    "    if(isinstance(function_def, cst.FunctionDef)):\n",
    "        group = []\n",
    "        call_search_FD(function_def)\n",
    "        groups.append(group)\n",
    "\n",
    "for group in groups:\n",
    "    if(len(group) >= 1):\n",
    "        call_sequences.append(group)\n",
    "\n",
    "call_sequences\n",
    "\n",
    "simple_htr_master_call_sequences = call_sequences\n",
    "\n",
    "%store simple_htr_master_call_sequences\n"
   ]
  }
 ],
 "metadata": {
  "interpreter": {
   "hash": "ed982b9b6081d1d9e59ed82f711d227adf8310dd235d41e3a5d30a82931f91e3"
  },
  "kernelspec": {
   "display_name": "Python 3.9.1 64-bit",
   "language": "python",
   "name": "python3"
  },
  "language_info": {
   "codemirror_mode": {
    "name": "ipython",
    "version": 3
   },
   "file_extension": ".py",
   "mimetype": "text/x-python",
   "name": "python",
   "nbconvert_exporter": "python",
   "pygments_lexer": "ipython3",
   "version": "3.9.1"
  },
  "orig_nbformat": 4
 },
 "nbformat": 4,
 "nbformat_minor": 2
}
